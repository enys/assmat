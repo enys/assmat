{
 "cells": [
  {
   "cell_type": "code",
   "execution_count": null,
   "metadata": {},
   "outputs": [],
   "source": [
    "import pandas as pd\n",
    "import geopandas as gpd\n",
    "pd.set_option('display.max_colwidth', -1)"
   ]
  },
  {
   "cell_type": "code",
   "execution_count": null,
   "metadata": {},
   "outputs": [],
   "source": [
    "! pip install geopandas geopy"
   ]
  },
  {
   "cell_type": "code",
   "execution_count": null,
   "metadata": {},
   "outputs": [],
   "source": [
    "assmat_csv = 'data/assmat.csv'\n",
    "df_assmat = pd.read_csv(assmat_csv, sep=',')\n",
    "df_assmat.head(10)"
   ]
  },
  {
   "cell_type": "code",
   "execution_count": null,
   "metadata": {},
   "outputs": [],
   "source": [
    "df_assmat.shape"
   ]
  },
  {
   "cell_type": "code",
   "execution_count": null,
   "metadata": {},
   "outputs": [],
   "source": [
    "#cleanup\n",
    "name = df_assmat['assmat'].str.split(\"Téléphone\", n = 1, expand = True)\n",
    "name[0] = name[0].str.strip()\n",
    "name[1] = name[1].str.strip(' :')\n",
    "name.head()\n",
    "df_assmat['nom'] = name[0]\n",
    "df_assmat['tel'] = name[1]\n",
    "df_assmat.drop(columns=['assmat'], inplace=True)\n",
    "df_assmat['adresse'] = df_assmat['adresse'].str.replace('\\n',' ')\n",
    "df_assmat.set_index('adresse', inplace=True)\n",
    "df_assmat = df_assmat.drop(\"ADRESSE\", axis=0)\n",
    "df_assmat.reset_index(inplace=True)\n",
    "df_assmat.head(10)\n"
   ]
  },
  {
   "cell_type": "code",
   "execution_count": null,
   "metadata": {},
   "outputs": [],
   "source": [
    "# Import the geocoding tool\n",
    "from geopandas.tools import geocode\n",
    "from geopy.geocoders import Nominatim\n",
    "nm_geolocator = Nominatim(user_agent=\"specify_your_app_name_here\")\n",
    "\n",
    "# Geocode addresses with Nominatim backend\n",
    "#geo = geocode(df_assmat['adresse'].head(5), provider='nominatim', user_agent=\"assmat.0.0.1\")\n",
    "#geo = geocode(df_assmat['adresse'].head(10), provider='Nominatim',user_agent=\"assmat.0.0.1\")\n",
    "#geo = geocode(df_assmat['adresse'].head(100), user_agent=\"assmat.0.0.1\")\n",
    "\n",
    "#single_geo = geocode('6 rue bouvard 94120 fontenay sous bois', provider='nominatim') #works\n",
    "#single_geo = geocode('AVENUE DE NEUILLY 94120 FONTENAY SOUS BOIS', provider='Nominatim') #notworks\n",
    "#single_geo = geocode('AVENUE DE NEUILLY Porte n° 122 94120 FONTENAY SOUS BOIS', provider='Nominatim') #notworks\n",
    "#single_geo = geocode('2 RESIDENCE DU CLOS D ORLEANS 94120 FONTENAY SOUS BOIS')#fixed in osm\n",
    "#single_geo = geocode('AVENUE DE NEUILLY Porte n° 122 94120 FONTENAY SOUS BOIS') #works\n",
    "single_geo = geocode('AVENUE DE NEUILLY Porte n° 122 94120 FONTENAY SOUS BOIS', provider='banfrance') #notworks\n",
    "\n",
    "single_geo.head()\n",
    "#geo.head()"
   ]
  },
  {
   "cell_type": "code",
   "execution_count": null,
   "metadata": {},
   "outputs": [],
   "source": [
    "from geopy.geocoders import Nominatim, GeocodeFarm, BANFrance\n",
    "#geolocator = Nominatim(user_agent=\"specify_your_app_name_here\")\n",
    "geolocator = BANFrance(user_agent=\"specify_your_app_name_here\")\n",
    "\n",
    "#geolocator = GeocodeFarm(user_agent=\"specify_your_app_name_here\")# max 250 calls\n",
    "\n",
    "from geopy.extra.rate_limiter import RateLimiter\n",
    "geocode = RateLimiter(geolocator.geocode, min_delay_seconds=1)\n",
    "df_assmat['location'] = df_assmat['adresse'].apply(geocode)"
   ]
  },
  {
   "cell_type": "code",
   "execution_count": null,
   "metadata": {},
   "outputs": [],
   "source": [
    "df_assmat['point'] = df_assmat['location'].apply(lambda loc: tuple(loc.point) if loc else None)\n",
    "df_assmat['longitude'] = df_assmat['location'].apply(lambda loc: loc.longitude if loc else None)\n",
    "df_assmat['latitude'] = df_assmat['location'].apply(lambda loc: loc.latitude if loc else None)\n",
    "df_assmat.head()"
   ]
  },
  {
   "cell_type": "code",
   "execution_count": null,
   "metadata": {},
   "outputs": [],
   "source": [
    "gdf = gpd.GeoDataFrame(\n",
    "    df_assmat, geometry=gpd.points_from_xy(df_assmat.longitude, df_assmat.latitude))\n",
    "gdf.drop(columns=['location', 'point'], inplace=True)\n",
    "gdf.head()"
   ]
  },
  {
   "cell_type": "code",
   "execution_count": null,
   "metadata": {},
   "outputs": [],
   "source": [
    "gdf.to_file('data/assmat_BanFrance.geojson', driver='GeoJSON')"
   ]
  },
  {
   "cell_type": "code",
   "execution_count": null,
   "metadata": {},
   "outputs": [],
   "source": [
    "df = df_assmat[df_assmat.isna().any(axis=1)]\n",
    "df.head()\n",
    "#df.iloc[[0]]\n",
    "\n"
   ]
  }
 ],
 "metadata": {
  "kernelspec": {
   "display_name": "Python 3",
   "language": "python",
   "name": "python3"
  },
  "language_info": {
   "codemirror_mode": {
    "name": "ipython",
    "version": 3
   },
   "file_extension": ".py",
   "mimetype": "text/x-python",
   "name": "python",
   "nbconvert_exporter": "python",
   "pygments_lexer": "ipython3",
   "version": "3.6.3"
  }
 },
 "nbformat": 4,
 "nbformat_minor": 2
}
